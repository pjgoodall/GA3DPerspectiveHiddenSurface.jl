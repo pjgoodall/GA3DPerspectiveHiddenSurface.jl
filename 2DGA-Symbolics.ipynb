begin
	using Pkg
	Pkg.activate()
	# uncomment the following cell to download this package
	# Pkg.add(url="https://github.com/MasonProtter/GeometricMatrixAlgebras.jl")
end